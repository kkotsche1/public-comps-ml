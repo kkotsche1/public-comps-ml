{
 "cells": [
  {
   "cell_type": "code",
   "execution_count": null,
   "metadata": {},
   "outputs": [],
   "source": [
    "from dotenv import load_dotenv\n",
    "import os\n",
    "from pinecone import Pinecone\n",
    "load_dotenv(dotenv_path=r\"C:\\Users\\Admin\\PycharmProjects\\public-comps\\.env\")"
   ]
  },
  {
   "cell_type": "code",
   "execution_count": null,
   "metadata": {},
   "outputs": [],
   "source": [
    "# Instantiating pinecone index via the pinecone client\n",
    "pinecone_index = Pinecone(\n",
    "    api_key = os.environ.get(\"PINECONE_API_KEY\")\n",
    ").Index(host=os.environ.get(\"PINECONE_INDEX_HOST\"))\n"
   ]
  },
  {
   "cell_type": "code",
   "execution_count": null,
   "metadata": {},
   "outputs": [],
   "source": [
    "import sqlite3\n",
    "import json\n",
    "\n",
    "def fetch_entries_with_embeddings():\n",
    "    conn = sqlite3.connect(r'C:\\Users\\Admin\\PycharmProjects\\public-comps\\backend\\merging\\merged_company_deduplicated.db')\n",
    "    c = conn.cursor()\n",
    "    c.execute('''\n",
    "              SELECT * FROM companies\n",
    "              WHERE embedding IS NOT NULL\n",
    "              ''')\n",
    "    entries = c.fetchall()\n",
    "    conn.close()\n",
    "    return entries\n",
    "\n",
    "entries = fetch_entries_with_embeddings()"
   ]
  },
  {
   "cell_type": "code",
   "execution_count": null,
   "metadata": {},
   "outputs": [],
   "source": [
    "import json\n",
    "import re\n",
    "import sqlite3\n",
    "from collections import defaultdict\n",
    "\n",
    "def normalize_hyphens(text):\n",
    "    # Replace different types of dashes with a standard hyphen\n",
    "    text = re.sub(r'[–—−]', '-', text)  # Normalize different hyphens/dashes to a standard hyphen\n",
    "    return re.sub(r'\\s*-\\s*', ' - ', text)  # Ensure spaces around hyphens\n",
    "\n",
    "def prepare_and_deduplicate_data(entries):\n",
    "    seen_company_tickers = set()\n",
    "    upsert_data = []\n",
    "\n",
    "    for entry in entries:\n",
    "        \n",
    "        company_id = str(entry[0])\n",
    "        company_sec_cik = entry[1] if entry[1] is not None else 'N/A'\n",
    "        company_name = entry[2] if entry[2] is not None else 'N/A'\n",
    "        company_isin = entry[3] if entry[3] is not None else 'N/A'\n",
    "        company_ticker = entry[4] if entry[4] is not None else 'N/A'\n",
    "        company_exchange = entry[5] if entry[5] is not None else 'N/A'\n",
    "        country = entry[6] if entry[6] is not None else 'N/A'\n",
    "        industry = entry[7] if entry[7] is not None else 'N/A'\n",
    "        sector = entry[8] if entry[8] is not None else 'N/A'\n",
    "        long_business_summary = entry[9] if entry[9] is not None else 'N/A'\n",
    "\n",
    "        # Normalize hyphens in the industry and sector fields\n",
    "        industry = normalize_hyphens(industry)\n",
    "        sector = normalize_hyphens(sector)\n",
    "        \n",
    "        seen_company_tickers.add(company_ticker)\n",
    "        \n",
    "        metadata = {\n",
    "            'company_sec_cik': company_sec_cik,\n",
    "            'company_name': company_name,\n",
    "            'company_isin': company_isin,\n",
    "            'company_ticker': company_ticker,\n",
    "            'company_exchange': company_exchange,\n",
    "            'country': country,\n",
    "            'industry': industry,\n",
    "            'sector': sector,\n",
    "            'long_business_summary': long_business_summary\n",
    "        }\n",
    "\n",
    "        embedding = json.loads(entry[10])\n",
    "        upsert_data.append((company_id, embedding, metadata))\n",
    "    \n",
    "    return upsert_data"
   ]
  },
  {
   "cell_type": "code",
   "execution_count": null,
   "metadata": {},
   "outputs": [],
   "source": [
    "entries = prepare_and_deduplicate_data(entries)"
   ]
  },
  {
   "cell_type": "code",
   "execution_count": null,
   "metadata": {},
   "outputs": [],
   "source": [
    "def get_unique_entries(prepared_data):\n",
    "    unique_countries = set()\n",
    "    unique_industries = set()\n",
    "    unique_sectors = set()\n",
    "    \n",
    "    for entry in prepared_data:\n",
    "        metadata = entry[2]\n",
    "        \n",
    "        unique_countries.add(metadata['country'])\n",
    "        unique_industries.add(metadata['industry'])\n",
    "        unique_sectors.add(metadata['sector'])\n",
    "    \n",
    "    return list(unique_countries), list(unique_industries), list(unique_sectors)\n",
    "\n",
    "\n",
    "unique_countries, unique_industries, unique_sectors = get_unique_entries(entries)\n",
    "\n",
    "print(\"Unique Countries:\", unique_countries)\n",
    "print(\"Unique Industries:\", unique_industries)\n",
    "print(\"Unique Sectors:\", unique_sectors)"
   ]
  },
  {
   "cell_type": "code",
   "execution_count": null,
   "metadata": {},
   "outputs": [],
   "source": [
    "print(len(entries))\n",
    "print(entries[0])"
   ]
  },
  {
   "cell_type": "code",
   "execution_count": null,
   "metadata": {},
   "outputs": [],
   "source": [
    "def batch_upsert(upsert_data, batch_size=100):\n",
    "    batch = []\n",
    "    for element in upsert_data:\n",
    "        batch.append((element[0], element[1], element[2]))\n",
    "        \n",
    "        if len(batch) == batch_size:\n",
    "            upsert_response = pinecone_index.upsert(vectors=batch)\n",
    "            print(f\"Upsert response for batch: {upsert_response}\")\n",
    "            batch.clear()  # Clear the batch after upserting\n",
    "\n",
    "    # Upsert any remaining vectors that didn't fill up a full batch\n",
    "    if batch:\n",
    "        upsert_response = pinecone_index.upsert(vectors=batch)\n",
    "        print(f\"Upsert response for remaining batch: {upsert_response}\")\n",
    "\n",
    "batch_upsert(entries)"
   ]
  },
  {
   "cell_type": "code",
   "execution_count": null,
   "metadata": {},
   "outputs": [],
   "source": []
  },
  {
   "cell_type": "code",
   "execution_count": null,
   "metadata": {},
   "outputs": [],
   "source": []
  }
 ],
 "metadata": {
  "kernelspec": {
   "display_name": "Python 3",
   "language": "python",
   "name": "python3"
  },
  "language_info": {
   "codemirror_mode": {
    "name": "ipython",
    "version": 3
   },
   "file_extension": ".py",
   "mimetype": "text/x-python",
   "name": "python",
   "nbconvert_exporter": "python",
   "pygments_lexer": "ipython3",
   "version": "3.11.5"
  }
 },
 "nbformat": 4,
 "nbformat_minor": 2
}
