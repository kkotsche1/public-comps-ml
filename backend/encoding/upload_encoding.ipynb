{
 "cells": [
  {
   "cell_type": "code",
   "execution_count": 1,
   "metadata": {},
   "outputs": [
    {
     "data": {
      "text/plain": [
       "True"
      ]
     },
     "execution_count": 1,
     "metadata": {},
     "output_type": "execute_result"
    }
   ],
   "source": [
    "from dotenv import load_dotenv\n",
    "import os\n",
    "from pinecone import Pinecone\n",
    "load_dotenv(dotenv_path=r\"C:\\Users\\Admin\\PycharmProjects\\public-comps\\.env\")"
   ]
  },
  {
   "cell_type": "code",
   "execution_count": 2,
   "metadata": {},
   "outputs": [],
   "source": [
    "# Instantiating pinecone index via the pinecone client\n",
    "pinecone_index = Pinecone(\n",
    "    api_key = os.environ.get(\"PINECONE_API_KEY\")\n",
    ").Index(host=os.environ.get(\"PINECONE_INDEX_HOST\"))\n"
   ]
  },
  {
   "cell_type": "code",
   "execution_count": 1,
   "metadata": {},
   "outputs": [],
   "source": [
    "import sqlite3\n",
    "import json\n",
    "\n",
    "def fetch_entries_with_embeddings():\n",
    "    conn = sqlite3.connect(r'C:\\Users\\Admin\\PycharmProjects\\public-comps\\backend\\scraping\\us_company_info.db')\n",
    "    c = conn.cursor()\n",
    "    c.execute('''\n",
    "              SELECT * FROM companies\n",
    "              WHERE embedding IS NOT NULL\n",
    "              ''')\n",
    "    entries = c.fetchall()\n",
    "    conn.close()\n",
    "    return entries\n",
    "\n",
    "entries = fetch_entries_with_embeddings()"
   ]
  },
  {
   "cell_type": "code",
   "execution_count": 2,
   "metadata": {},
   "outputs": [],
   "source": [
    "import json\n",
    "import re\n",
    "from collections import defaultdict\n",
    "\n",
    "def normalize_hyphens(text):\n",
    "    # Replace different types of dashes with a standard hyphen\n",
    "    text = re.sub(r'[–—−]', '-', text)  # Normalize different hyphens/dashes to a standard hyphen\n",
    "    return re.sub(r'\\s*-\\s*', ' - ', text)  # Ensure spaces around hyphens\n",
    "\n",
    "def prepare_and_deduplicate_data(entries):\n",
    "    seen_company_tickers = set()\n",
    "    upsert_data = []\n",
    "\n",
    "    for entry in entries:\n",
    "        company_id = str(entry[0])\n",
    "        company_sec_cik = entry[1] if entry[1] is not None else 'N/A'\n",
    "        company_name = entry[2] if entry[2] is not None else 'N/A'\n",
    "        company_ticker = entry[3] if entry[3] is not None else 'N/A'\n",
    "        company_exchange = entry[4] if entry[4] is not None else 'N/A'\n",
    "        country = entry[5] if entry[5] is not None else 'N/A'\n",
    "        industry = entry[6] if entry[6] is not None else 'N/A'\n",
    "        sector = entry[7] if entry[7] is not None else 'N/A'\n",
    "        \n",
    "        # Normalize hyphens in the industry and sector fields\n",
    "        industry = normalize_hyphens(industry)\n",
    "        sector = normalize_hyphens(sector)\n",
    "        \n",
    "        seen_company_tickers.add(company_ticker)\n",
    "        \n",
    "        metadata = {\n",
    "            'company_sec_cik': company_sec_cik,\n",
    "            'company_name': company_name,\n",
    "            'company_ticker': company_ticker,\n",
    "            'company_exchange': company_exchange,\n",
    "            'country': country,\n",
    "            'industry': industry,\n",
    "            'sector': sector\n",
    "        }\n",
    "\n",
    "        embedding = json.loads(entry[9])\n",
    "        upsert_data.append((company_id, embedding, metadata))\n",
    "    \n",
    "    return upsert_data"
   ]
  },
  {
   "cell_type": "code",
   "execution_count": 3,
   "metadata": {},
   "outputs": [],
   "source": [
    "entries = prepare_and_deduplicate_data(entries)"
   ]
  },
  {
   "cell_type": "code",
   "execution_count": 4,
   "metadata": {},
   "outputs": [
    {
     "name": "stdout",
     "output_type": "stream",
     "text": [
      "Unique Countries: ['Finland', 'Brazil', 'Malta', 'Argentina', 'Singapore', 'Turkey', 'N/A', 'Jersey', 'Mexico', 'Malaysia', 'Italy', 'Cyprus', 'Costa Rica', 'Macau', 'Gibraltar', 'Norway', 'Luxembourg', 'Kazakhstan', 'Netherlands', 'United States', 'Bermuda', 'New Zealand', 'Colombia', 'Hungary', 'British Virgin Islands', 'China', 'Austria', 'Thailand', 'Poland', 'Jordan', 'Japan', 'Monaco', 'Isle of Man', 'Hong Kong', 'United Kingdom', 'Bahamas', 'Israel', 'Ireland', 'Greece', 'Belgium', 'Canada', 'Indonesia', 'Cayman Islands', 'Sweden', 'Peru', 'Uruguay', 'Guernsey', 'Denmark', 'Philippines', 'Kenya', 'Vietnam', 'Panama', 'India', 'France', 'Switzerland', 'United Arab Emirates', 'Australia', 'South Africa', 'Germany', 'South Korea', 'Portugal', 'Albania', 'Taiwan', 'Chile', 'Spain']\n",
      "Unique Industries: ['Engineering & Construction', 'Resorts & Casinos', 'Beverages - Wineries & Distilleries', 'Auto Parts', 'Solar', 'Utilities - Regulated Gas', 'Security & Protection Services', 'Thermal Coal', 'Grocery Stores', 'Furnishings, Fixtures & Appliances', 'Oil & Gas Integrated', 'Business Equipment & Supplies', 'Credit Services', 'Telecom Services', 'Insurance - Reinsurance', 'Other Precious Metals & Mining', 'Capital Markets', 'Agricultural Inputs', 'Consulting Services', 'Food Distribution', 'Oil & Gas Refining & Marketing', 'Electronics & Computer Distribution', 'Marine Shipping', 'Insurance - Diversified', 'Computer Hardware', 'Medical Care Facilities', 'Electrical Equipment & Parts', 'REIT - Residential', 'Metal Fabrication', 'Financial Conglomerates', 'Biotechnology', 'Electronic Components', 'Farm Products', 'Packaging & Containers', 'Other Industrial Metals & Mining', 'Electronic Gaming & Multimedia', 'Healthcare Plans', 'Utilities - Regulated Water', 'Oil & Gas E&P', 'Drug Manufacturers - Specialty & Generic', 'Utilities - Diversified', 'Banks - Regional', 'Medical Distribution', 'Auto Manufacturers', 'Packaged Foods', 'Utilities - Regulated Electric', 'Insurance - Property & Casualty', 'Beverages - Non - Alcoholic', 'Chemicals', 'REIT - Retail', 'REIT - Office', 'Medical Instruments & Supplies', 'Aerospace & Defense', 'Broadcasting', 'Discount Stores', 'Airlines', 'Staffing & Employment Services', 'Home Improvement Retail', 'Conglomerates', 'Aluminum', 'Travel Services', 'REIT - Specialty', 'Farm & Heavy Construction Machinery', 'Rental & Leasing Services', 'Communication Equipment', 'Publishing', 'Health Information Services', 'Semiconductors', 'REIT - Diversified', 'Drug Manufacturers - General', 'Software - Infrastructure', 'Lumber & Wood Production', 'Textile Manufacturing', 'Department Stores', 'REIT - Hotel & Motel', 'Pharmaceutical Retailers', 'Information Technology Services', 'Building Products & Equipment', 'Oil & Gas Equipment & Services', 'Building Materials', 'Copper', 'Utilities - Renewable', 'Apparel Retail', 'Semiconductor Equipment & Materials', 'Consumer Electronics', 'Specialty Retail', 'Auto & Truck Dealerships', 'Industrial Distribution', 'Personal Services', 'Insurance Brokers', 'Apparel Manufacturing', 'Lodging', 'Oil & Gas Midstream', 'Uranium', 'Residential Construction', 'Waste Management', 'Railroads', 'Beverages - Brewers', 'Tools & Accessories', 'Medical Devices', 'Trucking', 'Software - Application', 'Recreational Vehicles', 'Integrated Freight & Logistics', 'Silver', 'Tobacco', 'Internet Content & Information', 'Education & Training Services', 'Real Estate Services', 'Advertising Agencies', 'Specialty Business Services', 'Coking Coal', 'Entertainment', 'Insurance - Specialty', 'Specialty Chemicals', 'N/A', 'Gold', 'Footwear & Accessories', 'Utilities - Independent Power Producers', 'Real Estate - Diversified', 'Specialty Industrial Machinery', 'Shell Companies', 'Household & Personal Products', 'Leisure', 'Financial Data & Stock Exchanges', 'Mortgage Finance', 'Diagnostics & Research', 'Insurance - Life', 'Confectioners', 'Oil & Gas Drilling', 'Steel', 'Airports & Air Services', 'REIT - Industrial', 'Banks - Diversified', 'Asset Management', 'Paper & Paper Products', 'Restaurants', 'Luxury Goods', 'REIT - Healthcare Facilities', 'REIT - Mortgage', 'Gambling', 'Internet Retail', 'Real Estate - Development', 'Pollution & Treatment Controls', 'Scientific & Technical Instruments', 'Infrastructure Operations']\n",
      "Unique Sectors: ['Healthcare', 'Financial Services', 'N/A', 'Real Estate', 'Consumer Cyclical', 'Technology', 'Consumer Defensive', 'Energy', 'Basic Materials', 'Utilities', 'Industrials', 'Communication Services']\n"
     ]
    }
   ],
   "source": [
    "def get_unique_entries(prepared_data):\n",
    "    unique_countries = set()\n",
    "    unique_industries = set()\n",
    "    unique_sectors = set()\n",
    "    \n",
    "    for entry in prepared_data:\n",
    "        metadata = entry[2]\n",
    "        \n",
    "        unique_countries.add(metadata['country'])\n",
    "        unique_industries.add(metadata['industry'])\n",
    "        unique_sectors.add(metadata['sector'])\n",
    "    \n",
    "    return list(unique_countries), list(unique_industries), list(unique_sectors)\n",
    "\n",
    "\n",
    "unique_countries, unique_industries, unique_sectors = get_unique_entries(entries)\n",
    "\n",
    "print(\"Unique Countries:\", unique_countries)\n",
    "print(\"Unique Industries:\", unique_industries)\n",
    "print(\"Unique Sectors:\", unique_sectors)"
   ]
  },
  {
   "cell_type": "code",
   "execution_count": null,
   "metadata": {},
   "outputs": [],
   "source": [
    "def batch_upsert(upsert_data, batch_size=100):\n",
    "    batch = []\n",
    "    for element in upsert_data:\n",
    "        batch.append((element[0], element[1], element[2]))\n",
    "        \n",
    "        if len(batch) == batch_size:\n",
    "            upsert_response = pinecone_index.upsert(vectors=batch)\n",
    "            print(f\"Upsert response for batch: {upsert_response}\")\n",
    "            batch.clear()  # Clear the batch after upserting\n",
    "\n",
    "    # Upsert any remaining vectors that didn't fill up a full batch\n",
    "    if batch:\n",
    "        upsert_response = pinecone_index.upsert(vectors=batch)\n",
    "        print(f\"Upsert response for remaining batch: {upsert_response}\")\n",
    "\n",
    "batch_upsert(entries)"
   ]
  },
  {
   "cell_type": "code",
   "execution_count": null,
   "metadata": {},
   "outputs": [],
   "source": []
  },
  {
   "cell_type": "code",
   "execution_count": null,
   "metadata": {},
   "outputs": [],
   "source": []
  }
 ],
 "metadata": {
  "kernelspec": {
   "display_name": "Python 3",
   "language": "python",
   "name": "python3"
  },
  "language_info": {
   "codemirror_mode": {
    "name": "ipython",
    "version": 3
   },
   "file_extension": ".py",
   "mimetype": "text/x-python",
   "name": "python",
   "nbconvert_exporter": "python",
   "pygments_lexer": "ipython3",
   "version": "3.11.5"
  }
 },
 "nbformat": 4,
 "nbformat_minor": 2
}
