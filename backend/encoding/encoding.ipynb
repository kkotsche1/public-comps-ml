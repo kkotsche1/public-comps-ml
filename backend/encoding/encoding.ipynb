{
 "cells": [
  {
   "cell_type": "code",
   "execution_count": null,
   "metadata": {},
   "outputs": [],
   "source": [
    "!pip install --user --upgrade pinecone-client openai\n",
    "!pip install --upgrade pinecone-client openai"
   ]
  },
  {
   "cell_type": "code",
   "execution_count": 12,
   "metadata": {},
   "outputs": [],
   "source": [
    "import os\n",
    "from openai import OpenAI\n",
    "from pinecone import Pinecone\n",
    "import sqlite3\n",
    "import json\n",
    "from tqdm import tqdm\n",
    "import time"
   ]
  },
  {
   "cell_type": "code",
   "execution_count": null,
   "metadata": {},
   "outputs": [],
   "source": [
    "# def alter_database():\n",
    "#     conn = sqlite3.connect(r'C:\\Users\\Admin\\PycharmProjects\\public-comps\\backend\\scraping\\us_company_info.db')\n",
    "#     c = conn.cursor()\n",
    "#     c.execute('''\n",
    "#               ALTER TABLE companies\n",
    "#               ADD COLUMN embedding BLOB\n",
    "#               ''')\n",
    "#     conn.commit()\n",
    "#     conn.close()\n",
    "\n",
    "# # Call this function once to alter the database schema\n",
    "# alter_database()"
   ]
  },
  {
   "cell_type": "code",
   "execution_count": 14,
   "metadata": {},
   "outputs": [],
   "source": [
    "def fetch_all_companies():\n",
    "    conn = sqlite3.connect(r'C:\\Users\\Admin\\PycharmProjects\\public-comps\\backend\\merging\\merged_company_deduplicated.db')\n",
    "    c = conn.cursor()\n",
    "    c.execute('SELECT * FROM companies')\n",
    "    companies = c.fetchall()\n",
    "    conn.close()\n",
    "    return companies"
   ]
  },
  {
   "cell_type": "code",
   "execution_count": 19,
   "metadata": {},
   "outputs": [],
   "source": [
    "from dotenv import load_dotenv\n",
    "\n",
    "load_dotenv(dotenv_path=r\"C:\\Users\\Admin\\PycharmProjects\\public-comps\\.env\")\n",
    "\n",
    "client = OpenAI(\n",
    "    api_key=os.environ.get(\"OPENAI_API_KEY\")\n",
    ")\n",
    "\n",
    "def create_embeddings(texts):\n",
    "    response = client.embeddings.create(\n",
    "      model=\"text-embedding-3-large\",\n",
    "      input=texts\n",
    "    )\n",
    "    return [data.embedding for data in response.data]\n"
   ]
  },
  {
   "cell_type": "code",
   "execution_count": 16,
   "metadata": {},
   "outputs": [],
   "source": [
    "def update_company_embedding(company_id, embedding):\n",
    "    conn = sqlite3.connect(r'C:\\Users\\Admin\\PycharmProjects\\public-comps\\backend\\merging\\merged_company_deduplicated.db')\n",
    "    c = conn.cursor()\n",
    "    c.execute('''\n",
    "              UPDATE companies\n",
    "              SET embedding = ?\n",
    "              WHERE id = ?\n",
    "              ''', (json.dumps(embedding), company_id))\n",
    "    conn.commit()\n",
    "    conn.close()"
   ]
  },
  {
   "cell_type": "code",
   "execution_count": 20,
   "metadata": {},
   "outputs": [
    {
     "name": "stderr",
     "output_type": "stream",
     "text": [
      "100%|██████████| 97/97 [03:25<00:00,  2.12s/it]\n"
     ]
    }
   ],
   "source": [
    "BATCH_SIZE = 64\n",
    "\n",
    "def extend_database_with_embeddings():\n",
    "    companies = fetch_all_companies()\n",
    "    company_batches = []\n",
    "    current_batch = []\n",
    "\n",
    "    for company in companies:\n",
    "        company_id = company[0]\n",
    "        longBusinessSummary = company[9]  # Assuming longBusinessSummary is the 9th column\n",
    "        if longBusinessSummary != 'N/A':\n",
    "            current_batch.append((company_id, longBusinessSummary))\n",
    "            if len(current_batch) >= BATCH_SIZE:\n",
    "                company_batches.append(current_batch)\n",
    "                current_batch = []\n",
    "\n",
    "    # Don't forget to process the last batch if it has remaining companies\n",
    "    if current_batch:\n",
    "        company_batches.append(current_batch)\n",
    "\n",
    "    for batch in tqdm(company_batches):\n",
    "        company_ids = [company[0] for company in batch]\n",
    "        texts = [company[1] for company in batch]\n",
    "        embeddings = create_embeddings(texts)\n",
    "\n",
    "        for company_id, embedding in zip(company_ids, embeddings):\n",
    "            update_company_embedding(company_id, embedding)\n",
    "\n",
    "extend_database_with_embeddings()"
   ]
  },
  {
   "cell_type": "code",
   "execution_count": null,
   "metadata": {},
   "outputs": [],
   "source": []
  }
 ],
 "metadata": {
  "kernelspec": {
   "display_name": "Python 3",
   "language": "python",
   "name": "python3"
  },
  "language_info": {
   "codemirror_mode": {
    "name": "ipython",
    "version": 3
   },
   "file_extension": ".py",
   "mimetype": "text/x-python",
   "name": "python",
   "nbconvert_exporter": "python",
   "pygments_lexer": "ipython3",
   "version": "3.11.5"
  }
 },
 "nbformat": 4,
 "nbformat_minor": 2
}
