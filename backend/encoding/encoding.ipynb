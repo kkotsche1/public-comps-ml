{
 "cells": [
  {
   "cell_type": "code",
   "execution_count": null,
   "metadata": {},
   "outputs": [],
   "source": [
    "!pip install --user --upgrade pinecone-client openai\n",
    "!pip install --upgrade pinecone-client openai"
   ]
  },
  {
   "cell_type": "code",
   "execution_count": 1,
   "metadata": {},
   "outputs": [],
   "source": [
    "import os\n",
    "from openai import OpenAI\n",
    "from pinecone import Pinecone\n",
    "import sqlite3\n",
    "import json\n",
    "from tqdm import tqdm\n",
    "import time"
   ]
  },
  {
   "cell_type": "code",
   "execution_count": null,
   "metadata": {},
   "outputs": [],
   "source": [
    "# def alter_database():\n",
    "#     conn = sqlite3.connect(r'C:\\Users\\Admin\\PycharmProjects\\public-comps\\backend\\scraping\\us_company_info.db')\n",
    "#     c = conn.cursor()\n",
    "#     c.execute('''\n",
    "#               ALTER TABLE companies\n",
    "#               ADD COLUMN embedding BLOB\n",
    "#               ''')\n",
    "#     conn.commit()\n",
    "#     conn.close()\n",
    "\n",
    "# # Call this function once to alter the database schema\n",
    "# alter_database()"
   ]
  },
  {
   "cell_type": "code",
   "execution_count": 3,
   "metadata": {},
   "outputs": [],
   "source": [
    "def fetch_all_companies():\n",
    "    conn = sqlite3.connect(r'C:\\Users\\Admin\\PycharmProjects\\public-comps\\backend\\scraping\\us_company_info.db')\n",
    "    c = conn.cursor()\n",
    "    c.execute('SELECT * FROM companies')\n",
    "    companies = c.fetchall()\n",
    "    conn.close()\n",
    "    return companies"
   ]
  },
  {
   "cell_type": "code",
   "execution_count": 4,
   "metadata": {},
   "outputs": [],
   "source": [
    "from dotenv import load_dotenv\n",
    "\n",
    "load_dotenv(dotenv_path=\"C:\\Users\\Admin\\PycharmProjects\\public-comps\\.env\")\n",
    "\n",
    "client = OpenAI(\n",
    "    api_key=os.environ.get(\"OPENAI_API_KEY\")\n",
    ")\n",
    "\n",
    "def create_embedding(text):\n",
    "    response = client.embeddings.create(\n",
    "      model=\"text-embedding-ada-002\",\n",
    "      input=text\n",
    "    )\n",
    "    return response.data[0].embedding"
   ]
  },
  {
   "cell_type": "code",
   "execution_count": 5,
   "metadata": {},
   "outputs": [],
   "source": [
    "def update_company_embedding(company_id, embedding):\n",
    "    conn = sqlite3.connect(r'C:\\Users\\Admin\\PycharmProjects\\public-comps\\backend\\scraping\\us_company_info.db')\n",
    "    c = conn.cursor()\n",
    "    c.execute('''\n",
    "              UPDATE companies\n",
    "              SET embedding = ?\n",
    "              WHERE id = ?\n",
    "              ''', (json.dumps(embedding), company_id))\n",
    "    conn.commit()\n",
    "    conn.close()"
   ]
  },
  {
   "cell_type": "code",
   "execution_count": null,
   "metadata": {},
   "outputs": [],
   "source": [
    "def extend_database_with_embeddings():\n",
    "    companies = fetch_all_companies()\n",
    "    for company in tqdm(companies):\n",
    "        company_id = company[0]\n",
    "        longBusinessSummary = company[8]  # Assuming longBusinessSummary is the 9th column\n",
    "        if longBusinessSummary != 'N/A':\n",
    "            embedding = create_embedding(longBusinessSummary)\n",
    "            update_company_embedding(company_id, embedding)\n",
    "            time.sleep(0.2)  # To avoid hitting the rate limit\n",
    "        else:\n",
    "            print(f\"Skipping company ID {company_id} due to missing longBusinessSummary\")\n",
    "\n",
    "extend_database_with_embeddings()"
   ]
  },
  {
   "cell_type": "code",
   "execution_count": null,
   "metadata": {},
   "outputs": [],
   "source": []
  }
 ],
 "metadata": {
  "kernelspec": {
   "display_name": "Python 3",
   "language": "python",
   "name": "python3"
  },
  "language_info": {
   "codemirror_mode": {
    "name": "ipython",
    "version": 3
   },
   "file_extension": ".py",
   "mimetype": "text/x-python",
   "name": "python",
   "nbconvert_exporter": "python",
   "pygments_lexer": "ipython3",
   "version": "3.11.5"
  }
 },
 "nbformat": 4,
 "nbformat_minor": 2
}
