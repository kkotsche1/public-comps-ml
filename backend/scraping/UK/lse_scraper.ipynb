{
 "cells": [
  {
   "cell_type": "code",
   "execution_count": null,
   "metadata": {},
   "outputs": [],
   "source": [
    "!pip install --user pandas openpyxl"
   ]
  },
  {
   "cell_type": "code",
   "execution_count": 15,
   "metadata": {},
   "outputs": [
    {
     "name": "stderr",
     "output_type": "stream",
     "text": [
      "C:\\Users\\Admin\\AppData\\Roaming\\Python\\Python311\\site-packages\\openpyxl\\styles\\stylesheet.py:237: UserWarning: Workbook contains no default style, apply openpyxl's default\n",
      "  warn(\"Workbook contains no default style, apply openpyxl's default\")\n"
     ]
    }
   ],
   "source": [
    "import pandas as pd\n",
    "\n",
    "# Load the spreadsheet\n",
    "file_path = 'Instrument list_51.xlsx'\n",
    "spreadsheet = pd.ExcelFile(file_path)"
   ]
  },
  {
   "cell_type": "code",
   "execution_count": 16,
   "metadata": {},
   "outputs": [],
   "source": [
    "# Load the data from the appropriate row, skipping the initial metadata rows\n",
    "df = pd.read_excel(file_path, sheet_name='1.0 All Equity', skiprows=5)"
   ]
  },
  {
   "cell_type": "code",
   "execution_count": 17,
   "metadata": {},
   "outputs": [
    {
     "name": "stderr",
     "output_type": "stream",
     "text": [
      "C:\\Users\\Admin\\AppData\\Roaming\\Python\\Python311\\site-packages\\openpyxl\\styles\\stylesheet.py:237: UserWarning: Workbook contains no default style, apply openpyxl's default\n",
      "  warn(\"Workbook contains no default style, apply openpyxl's default\")\n"
     ]
    }
   ],
   "source": [
    "# Load the data from the appropriate row, skipping the initial metadata rows\n",
    "df = pd.read_excel(file_path, sheet_name='1.0 All Equity', skiprows=5)"
   ]
  },
  {
   "cell_type": "code",
   "execution_count": 18,
   "metadata": {},
   "outputs": [],
   "source": [
    "# Set the correct header and remove unnecessary rows\n",
    "df.columns = df.iloc[2]\n",
    "df = df.drop([0, 1, 2])"
   ]
  },
  {
   "cell_type": "code",
   "execution_count": 19,
   "metadata": {},
   "outputs": [],
   "source": [
    "# Select relevant columns and filter for \"Shares\" in \"MiFIR Indentifier Name\"\n",
    "columns_of_interest = [\n",
    "    'TIDM', 'Issuer Name', 'Instrument Name', 'ISIN',\n",
    "    'ICB Industry', 'ICB Super-Sector Name', 'Country of Incorporation',\n",
    "    'MiFIR Indentifier Name'\n",
    "]\n",
    "\n",
    "filtered_df = df[columns_of_interest]\n",
    "filtered_df = filtered_df[filtered_df['MiFIR Indentifier Name'] == 'Shares']\n",
    "\n",
    "# Drop the now unnecessary 'MiFIR Indentifier Name' column\n",
    "filtered_df = filtered_df.drop(columns=['MiFIR Indentifier Name'])"
   ]
  },
  {
   "cell_type": "code",
   "execution_count": 20,
   "metadata": {},
   "outputs": [],
   "source": [
    "import yfinance as yf"
   ]
  },
  {
   "cell_type": "code",
   "execution_count": 21,
   "metadata": {},
   "outputs": [],
   "source": [
    "import sqlite3\n",
    "import json\n",
    "import yfinance as yf\n",
    "from tqdm import tqdm, tqdm_notebook\n",
    "import time\n",
    "\n",
    "def initialize_database():\n",
    "    conn = sqlite3.connect('uk_company_info.db')\n",
    "    c = conn.cursor()\n",
    "    c.execute('''\n",
    "              CREATE TABLE IF NOT EXISTS companies\n",
    "              (id INTEGER PRIMARY KEY,\n",
    "              company_sec_cik TEXT,\n",
    "              company_name TEXT,\n",
    "              company_ticker TEXT,\n",
    "              company_exchange TEXT,\n",
    "              company_isin TEXT,\n",
    "              country TEXT,\n",
    "              industry TEXT,\n",
    "              sector TEXT,\n",
    "              longBusinessSummary TEXT,\n",
    "              retrieval_string TEXT)\n",
    "              ''')\n",
    "    conn.commit()\n",
    "    conn.close()\n",
    "\n",
    "def retrieve_info(ticker):\n",
    "    try:\n",
    "        company_info = yf.Ticker(ticker).info\n",
    "        if 'country' in company_info or 'industry' in company_info or 'city' in company_info or 'symbol' in company_info:\n",
    "            return company_info\n",
    "    except Exception as e:\n",
    "        pass\n",
    "    return None\n",
    "\n",
    "def get_company_info(company_sec_cik, company_name, company_ticker, company_exchange, company_isin):\n",
    "    identifiers = [company_isin, (company_ticker + \".L\").replace(\"..\", \".\"), company_ticker]\n",
    "    company_info = None\n",
    "    retrieval_string = None\n",
    "    \n",
    "    for identifier in identifiers:\n",
    "        company_info = retrieve_info(identifier)\n",
    "        if company_info:\n",
    "            retrieval_string = identifier\n",
    "            break\n",
    "        time.sleep(0.25)\n",
    "    \n",
    "    if company_info:\n",
    "        return {\n",
    "            'company_sec_cik': company_sec_cik,\n",
    "            'company_name': company_name,\n",
    "            'company_ticker': company_ticker,\n",
    "            'company_exchange': company_exchange,\n",
    "            'company_isin': company_isin,\n",
    "            'country': company_info.get('country', 'N/A'),\n",
    "            'industry': company_info.get('industry', 'N/A'),\n",
    "            'sector': company_info.get('sector', 'N/A'),\n",
    "            'longBusinessSummary': company_info.get('longBusinessSummary', 'N/A'),\n",
    "            'retrieval_string': retrieval_string,\n",
    "        }\n",
    "    else:\n",
    "        print(identifiers, \"returned none\")\n",
    "        return None\n",
    "\n",
    "def insert_company_info(company):\n",
    "    conn = sqlite3.connect('uk_company_info.db')\n",
    "    c = conn.cursor()\n",
    "    c.execute('''\n",
    "              INSERT INTO companies (company_sec_cik, company_name, company_ticker, company_exchange, company_isin, country, industry, sector, longBusinessSummary, retrieval_string)\n",
    "              VALUES (?, ?, ?, ?, ?, ?, ?, ?, ?, ?)\n",
    "              ''', (company['company_sec_cik'], company['company_name'], company['company_ticker'], company['company_exchange'],\n",
    "                    company['company_isin'], company['country'], company['industry'], company['sector'], company['longBusinessSummary'], company['retrieval_string']))\n",
    "    conn.commit()\n",
    "    conn.close()"
   ]
  },
  {
   "cell_type": "code",
   "execution_count": 22,
   "metadata": {},
   "outputs": [],
   "source": [
    "initialize_database()"
   ]
  },
  {
   "cell_type": "code",
   "execution_count": 23,
   "metadata": {},
   "outputs": [
    {
     "name": "stderr",
     "output_type": "stream",
     "text": [
      "Processing companies:  43%|████▎     | 782/1804 [17:43<39:03,  2.29s/it]  "
     ]
    },
    {
     "name": "stdout",
     "output_type": "stream",
     "text": [
      "['GB0009065284', '44IO.L', '44IO'] returned none\n",
      "\n"
     ]
    },
    {
     "name": "stderr",
     "output_type": "stream",
     "text": [
      "Processing companies: 100%|██████████| 1804/1804 [56:07<00:00,  1.87s/it]  \n"
     ]
    }
   ],
   "source": [
    "import logging\n",
    "logger = logging.getLogger('yfinance')\n",
    "logger.disabled = True\n",
    "logger.propagate = False\n",
    "\n",
    "for index, row in tqdm(filtered_df.iterrows(), total=filtered_df.shape[0], desc=\"Processing companies\"):\n",
    "    company_sec_cik = \"N/A\"\n",
    "    company_name = row[\"Issuer Name\"]\n",
    "    company_ticker = row[\"TIDM\"]\n",
    "    company_exchange = \"LSE\"\n",
    "    company_isin = row[\"ISIN\"]\n",
    "    \n",
    "    try:\n",
    "        company_info = get_company_info(company_sec_cik, company_name, company_ticker, company_exchange, company_isin)\n",
    "        company_info[\"company_isin\"] = company_isin\n",
    "        if company_info is not None:\n",
    "            insert_company_info(company_info)\n",
    "        else:\n",
    "            print(f\"Failed to retrieve info for {company_name} ({company_ticker}, {company_isin})\")\n",
    "    except Exception as e:\n",
    "        print()\n",
    "    time.sleep(0.25)"
   ]
  },
  {
   "cell_type": "code",
   "execution_count": null,
   "metadata": {},
   "outputs": [],
   "source": []
  }
 ],
 "metadata": {
  "kernelspec": {
   "display_name": "Python 3",
   "language": "python",
   "name": "python3"
  },
  "language_info": {
   "codemirror_mode": {
    "name": "ipython",
    "version": 3
   },
   "file_extension": ".py",
   "mimetype": "text/x-python",
   "name": "python",
   "nbconvert_exporter": "python",
   "pygments_lexer": "ipython3",
   "version": "3.11.5"
  }
 },
 "nbformat": 4,
 "nbformat_minor": 2
}
