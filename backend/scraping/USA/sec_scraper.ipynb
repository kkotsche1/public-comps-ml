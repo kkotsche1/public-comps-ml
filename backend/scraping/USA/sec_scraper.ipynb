{
 "cells": [
  {
   "cell_type": "code",
   "execution_count": null,
   "metadata": {},
   "outputs": [],
   "source": [
    "!pip install --user yfinance\n",
    "!pip install --user tqdm\n",
    "!pip install --upgrade --user jupyter ipywidgets"
   ]
  },
  {
   "cell_type": "code",
   "execution_count": null,
   "metadata": {},
   "outputs": [],
   "source": [
    "!pip install --user iprogress\n",
    "!pip install iprogress\n",
    "!pip install --upgrade --user jupyter ipywidgets\n",
    "!pip install --upgrade jupyter ipywidgets"
   ]
  },
  {
   "cell_type": "code",
   "execution_count": null,
   "metadata": {},
   "outputs": [],
   "source": [
    "import sqlite3\n",
    "import json\n",
    "import yfinance as yf\n",
    "from tqdm import tqdm, tqdm_notebook\n",
    "import time\n",
    "\n",
    "def initialize_database():\n",
    "    conn = sqlite3.connect('company_info.db')\n",
    "    c = conn.cursor()\n",
    "    c.execute('''\n",
    "              CREATE TABLE IF NOT EXISTS companies\n",
    "              (id INTEGER PRIMARY KEY,\n",
    "              company_sec_cik TEXT,\n",
    "              company_name TEXT,\n",
    "              company_ticker TEXT,\n",
    "              company_exchange TEXT,\n",
    "              country TEXT,\n",
    "              industry TEXT,\n",
    "              sector TEXT,\n",
    "              longBusinessSummary TEXT)\n",
    "              ''')\n",
    "    conn.commit()\n",
    "    conn.close()\n",
    "\n",
    "def get_company_info(company_sec_cik, company_name, company_ticker, company_exchange):\n",
    "    company_info = yf.Ticker(company_ticker).info\n",
    "    return {\n",
    "        'company_sec_cik': company_sec_cik,\n",
    "        'company_name': company_name,\n",
    "        'company_ticker': company_ticker,\n",
    "        'company_exchange': company_exchange,\n",
    "        'country': company_info.get('country', 'N/A'),\n",
    "        'industry': company_info.get('industry', 'N/A'),\n",
    "        'sector': company_info.get('sector', 'N/A'),\n",
    "        'longBusinessSummary': company_info.get('longBusinessSummary', 'N/A')\n",
    "    }\n",
    "\n",
    "def insert_company_info(company):\n",
    "    conn = sqlite3.connect('company_info.db')\n",
    "    c = conn.cursor()\n",
    "    c.execute('''\n",
    "              INSERT INTO companies (company_sec_cik, company_name, company_ticker, company_exchange, country, industry, sector, longBusinessSummary)\n",
    "              VALUES (?, ?, ?, ?, ?, ?, ?, ?)\n",
    "              ''', (company['company_sec_cik'], company['company_name'], company['company_ticker'], company['company_exchange'],\n",
    "                    company['country'], company['industry'], company['sector'], company['longBusinessSummary']))\n",
    "    conn.commit()\n",
    "    conn.close()"
   ]
  },
  {
   "cell_type": "code",
   "execution_count": null,
   "metadata": {},
   "outputs": [],
   "source": [
    "with open(\"company_tickers_exchange.json\", \"r\") as f:\n",
    "    data = json.load(f)[\"data\"]"
   ]
  },
  {
   "cell_type": "code",
   "execution_count": null,
   "metadata": {},
   "outputs": [],
   "source": [
    "initialize_database()\n",
    "\n",
    "for company in tqdm_notebook(data):\n",
    "\n",
    "    company_sec_cik = company[0]\n",
    "    company_name = company[1]\n",
    "    company_ticker = company[2]\n",
    "    company_exchange = company[3]\n",
    "    try:\n",
    "        company_info = get_company_info(company_sec_cik, company_name, company_ticker, company_exchange)\n",
    "        insert_company_info(company_info)\n",
    "        time.sleep(0.1)\n",
    "    except:\n",
    "        print(company_sec_cik, company_name, company_ticker)\n",
    "\n"
   ]
  }
 ],
 "metadata": {
  "kernelspec": {
   "display_name": "Python 3",
   "language": "python",
   "name": "python3"
  },
  "language_info": {
   "codemirror_mode": {
    "name": "ipython",
    "version": 3
   },
   "file_extension": ".py",
   "mimetype": "text/x-python",
   "name": "python",
   "nbconvert_exporter": "python",
   "pygments_lexer": "ipython3",
   "version": "3.11.5"
  }
 },
 "nbformat": 4,
 "nbformat_minor": 2
}
