{
 "cells": [
  {
   "cell_type": "code",
   "execution_count": 20,
   "metadata": {},
   "outputs": [],
   "source": [
    "import pandas as pd \n",
    "import yfinance as yf\n",
    "import json \n",
    "import time\n",
    "import sqlite3\n",
    "from tqdm import tqdm"
   ]
  },
  {
   "cell_type": "code",
   "execution_count": 7,
   "metadata": {},
   "outputs": [
    {
     "data": {
      "text/html": [
       "<div>\n",
       "<style scoped>\n",
       "    .dataframe tbody tr th:only-of-type {\n",
       "        vertical-align: middle;\n",
       "    }\n",
       "\n",
       "    .dataframe tbody tr th {\n",
       "        vertical-align: top;\n",
       "    }\n",
       "\n",
       "    .dataframe thead th {\n",
       "        text-align: right;\n",
       "    }\n",
       "</style>\n",
       "<table border=\"1\" class=\"dataframe\">\n",
       "  <thead>\n",
       "    <tr style=\"text-align: right;\">\n",
       "      <th></th>\n",
       "      <th>Product Status</th>\n",
       "      <th>Instrument Status</th>\n",
       "      <th>Instrument</th>\n",
       "      <th>ISIN</th>\n",
       "      <th>Product ID</th>\n",
       "      <th>Instrument ID</th>\n",
       "      <th>WKN</th>\n",
       "      <th>Mnemonic</th>\n",
       "      <th>MIC Code</th>\n",
       "      <th>CCP eligible Code</th>\n",
       "      <th>...</th>\n",
       "      <th>Single Sided Quote Support</th>\n",
       "      <th>Liquidity Class</th>\n",
       "      <th>Cover Indicator</th>\n",
       "      <th>VolatilityCorridorOpeningAuction</th>\n",
       "      <th>VolatilityCorridorIntradayAuction</th>\n",
       "      <th>VolatilityCorridorClosingAuction</th>\n",
       "      <th>VolatilityCorridorContinuous</th>\n",
       "      <th>DisableOnBookTrading</th>\n",
       "      <th>Maximum Order Quantity</th>\n",
       "      <th>Maximum Order Value</th>\n",
       "    </tr>\n",
       "  </thead>\n",
       "  <tbody>\n",
       "    <tr>\n",
       "      <th>0</th>\n",
       "      <td>Active</td>\n",
       "      <td>Active</td>\n",
       "      <td>STRABAG SE</td>\n",
       "      <td>AT000000STR1</td>\n",
       "      <td>432891</td>\n",
       "      <td>7026002</td>\n",
       "      <td>000A0M23V</td>\n",
       "      <td>XD4</td>\n",
       "      <td>XETR</td>\n",
       "      <td>Y</td>\n",
       "      <td>...</td>\n",
       "      <td>SSQ_ON_ENTRY_ALLOWED</td>\n",
       "      <td>2.0</td>\n",
       "      <td>NaN</td>\n",
       "      <td>NaN</td>\n",
       "      <td>NaN</td>\n",
       "      <td>NaN</td>\n",
       "      <td>NaN</td>\n",
       "      <td>N</td>\n",
       "      <td>1883870</td>\n",
       "      <td>73000000</td>\n",
       "    </tr>\n",
       "    <tr>\n",
       "      <th>1</th>\n",
       "      <td>Active</td>\n",
       "      <td>Active</td>\n",
       "      <td>FACC AG INH.AKT.</td>\n",
       "      <td>AT00000FACC2</td>\n",
       "      <td>52092</td>\n",
       "      <td>2504163</td>\n",
       "      <td>000A1147K</td>\n",
       "      <td>1FC</td>\n",
       "      <td>XETR</td>\n",
       "      <td>Y</td>\n",
       "      <td>...</td>\n",
       "      <td>SSQ_ON_ENTRY_ALLOWED</td>\n",
       "      <td>2.0</td>\n",
       "      <td>NaN</td>\n",
       "      <td>NaN</td>\n",
       "      <td>NaN</td>\n",
       "      <td>NaN</td>\n",
       "      <td>NaN</td>\n",
       "      <td>N</td>\n",
       "      <td>8935128</td>\n",
       "      <td>73000000</td>\n",
       "    </tr>\n",
       "    <tr>\n",
       "      <th>2</th>\n",
       "      <td>Active</td>\n",
       "      <td>Active</td>\n",
       "      <td>RAIFFEISEN BK INTL INH.</td>\n",
       "      <td>AT0000606306</td>\n",
       "      <td>52094</td>\n",
       "      <td>2504165</td>\n",
       "      <td>000A0D9SU</td>\n",
       "      <td>RAW</td>\n",
       "      <td>XETR</td>\n",
       "      <td>Y</td>\n",
       "      <td>...</td>\n",
       "      <td>SSQ_ON_ENTRY_ALLOWED</td>\n",
       "      <td>1.0</td>\n",
       "      <td>NaN</td>\n",
       "      <td>NaN</td>\n",
       "      <td>NaN</td>\n",
       "      <td>NaN</td>\n",
       "      <td>NaN</td>\n",
       "      <td>N</td>\n",
       "      <td>20350877</td>\n",
       "      <td>348000000</td>\n",
       "    </tr>\n",
       "    <tr>\n",
       "      <th>3</th>\n",
       "      <td>Active</td>\n",
       "      <td>Active</td>\n",
       "      <td>PORR AG</td>\n",
       "      <td>AT0000609607</td>\n",
       "      <td>52095</td>\n",
       "      <td>2504166</td>\n",
       "      <td>000850185</td>\n",
       "      <td>ABS2</td>\n",
       "      <td>XETR</td>\n",
       "      <td>Y</td>\n",
       "      <td>...</td>\n",
       "      <td>SSQ_ON_ENTRY_ALLOWED</td>\n",
       "      <td>2.0</td>\n",
       "      <td>NaN</td>\n",
       "      <td>NaN</td>\n",
       "      <td>NaN</td>\n",
       "      <td>NaN</td>\n",
       "      <td>NaN</td>\n",
       "      <td>N</td>\n",
       "      <td>5320699</td>\n",
       "      <td>73000000</td>\n",
       "    </tr>\n",
       "    <tr>\n",
       "      <th>4</th>\n",
       "      <td>Active</td>\n",
       "      <td>Active</td>\n",
       "      <td>LENZING AG</td>\n",
       "      <td>AT0000644505</td>\n",
       "      <td>52097</td>\n",
       "      <td>2504168</td>\n",
       "      <td>000852927</td>\n",
       "      <td>LEN</td>\n",
       "      <td>XETR</td>\n",
       "      <td>Y</td>\n",
       "      <td>...</td>\n",
       "      <td>SSQ_ON_ENTRY_ALLOWED</td>\n",
       "      <td>2.0</td>\n",
       "      <td>NaN</td>\n",
       "      <td>NaN</td>\n",
       "      <td>NaN</td>\n",
       "      <td>NaN</td>\n",
       "      <td>NaN</td>\n",
       "      <td>N</td>\n",
       "      <td>2208774</td>\n",
       "      <td>73000000</td>\n",
       "    </tr>\n",
       "  </tbody>\n",
       "</table>\n",
       "<p>5 rows × 144 columns</p>\n",
       "</div>"
      ],
      "text/plain": [
       "  Product Status Instrument Status               Instrument          ISIN   \n",
       "0         Active            Active               STRABAG SE  AT000000STR1  \\\n",
       "1         Active            Active         FACC AG INH.AKT.  AT00000FACC2   \n",
       "2         Active            Active  RAIFFEISEN BK INTL INH.  AT0000606306   \n",
       "3         Active            Active                  PORR AG  AT0000609607   \n",
       "4         Active            Active               LENZING AG  AT0000644505   \n",
       "\n",
       "   Product ID  Instrument ID        WKN Mnemonic MIC Code CCP eligible Code   \n",
       "0      432891        7026002  000A0M23V      XD4     XETR                 Y  \\\n",
       "1       52092        2504163  000A1147K      1FC     XETR                 Y   \n",
       "2       52094        2504165  000A0D9SU      RAW     XETR                 Y   \n",
       "3       52095        2504166  000850185     ABS2     XETR                 Y   \n",
       "4       52097        2504168  000852927      LEN     XETR                 Y   \n",
       "\n",
       "   ... Single Sided Quote Support Liquidity Class Cover Indicator   \n",
       "0  ...       SSQ_ON_ENTRY_ALLOWED             2.0             NaN  \\\n",
       "1  ...       SSQ_ON_ENTRY_ALLOWED             2.0             NaN   \n",
       "2  ...       SSQ_ON_ENTRY_ALLOWED             1.0             NaN   \n",
       "3  ...       SSQ_ON_ENTRY_ALLOWED             2.0             NaN   \n",
       "4  ...       SSQ_ON_ENTRY_ALLOWED             2.0             NaN   \n",
       "\n",
       "  VolatilityCorridorOpeningAuction VolatilityCorridorIntradayAuction   \n",
       "0                              NaN                               NaN  \\\n",
       "1                              NaN                               NaN   \n",
       "2                              NaN                               NaN   \n",
       "3                              NaN                               NaN   \n",
       "4                              NaN                               NaN   \n",
       "\n",
       "   VolatilityCorridorClosingAuction  VolatilityCorridorContinuous   \n",
       "0                               NaN                           NaN  \\\n",
       "1                               NaN                           NaN   \n",
       "2                               NaN                           NaN   \n",
       "3                               NaN                           NaN   \n",
       "4                               NaN                           NaN   \n",
       "\n",
       "   DisableOnBookTrading Maximum Order Quantity  Maximum Order Value  \n",
       "0                     N                1883870             73000000  \n",
       "1                     N                8935128             73000000  \n",
       "2                     N               20350877            348000000  \n",
       "3                     N                5320699             73000000  \n",
       "4                     N                2208774             73000000  \n",
       "\n",
       "[5 rows x 144 columns]"
      ]
     },
     "execution_count": 7,
     "metadata": {},
     "output_type": "execute_result"
    }
   ],
   "source": [
    "file_path = \"t7-xetr-allTradableInstruments.csv\"\n",
    "\n",
    "# Try reading the file with different delimiters and inspect the columns\n",
    "\n",
    "data = pd.read_csv(file_path, delimiter=';', skiprows=2)"
   ]
  },
  {
   "cell_type": "code",
   "execution_count": 8,
   "metadata": {},
   "outputs": [
    {
     "data": {
      "text/html": [
       "<div>\n",
       "<style scoped>\n",
       "    .dataframe tbody tr th:only-of-type {\n",
       "        vertical-align: middle;\n",
       "    }\n",
       "\n",
       "    .dataframe tbody tr th {\n",
       "        vertical-align: top;\n",
       "    }\n",
       "\n",
       "    .dataframe thead th {\n",
       "        text-align: right;\n",
       "    }\n",
       "</style>\n",
       "<table border=\"1\" class=\"dataframe\">\n",
       "  <thead>\n",
       "    <tr style=\"text-align: right;\">\n",
       "      <th></th>\n",
       "      <th>instrument_name</th>\n",
       "      <th>instrument_isin</th>\n",
       "      <th>instrument_ticker</th>\n",
       "    </tr>\n",
       "  </thead>\n",
       "  <tbody>\n",
       "    <tr>\n",
       "      <th>0</th>\n",
       "      <td>STRABAG SE</td>\n",
       "      <td>AT000000STR1</td>\n",
       "      <td>XD4</td>\n",
       "    </tr>\n",
       "    <tr>\n",
       "      <th>1</th>\n",
       "      <td>FACC AG INH.AKT.</td>\n",
       "      <td>AT00000FACC2</td>\n",
       "      <td>1FC</td>\n",
       "    </tr>\n",
       "    <tr>\n",
       "      <th>2</th>\n",
       "      <td>RAIFFEISEN BK INTL INH.</td>\n",
       "      <td>AT0000606306</td>\n",
       "      <td>RAW</td>\n",
       "    </tr>\n",
       "    <tr>\n",
       "      <th>3</th>\n",
       "      <td>PORR AG</td>\n",
       "      <td>AT0000609607</td>\n",
       "      <td>ABS2</td>\n",
       "    </tr>\n",
       "    <tr>\n",
       "      <th>4</th>\n",
       "      <td>LENZING AG</td>\n",
       "      <td>AT0000644505</td>\n",
       "      <td>LEN</td>\n",
       "    </tr>\n",
       "  </tbody>\n",
       "</table>\n",
       "</div>"
      ],
      "text/plain": [
       "           instrument_name instrument_isin instrument_ticker\n",
       "0               STRABAG SE    AT000000STR1               XD4\n",
       "1         FACC AG INH.AKT.    AT00000FACC2               1FC\n",
       "2  RAIFFEISEN BK INTL INH.    AT0000606306               RAW\n",
       "3                  PORR AG    AT0000609607              ABS2\n",
       "4               LENZING AG    AT0000644505               LEN"
      ]
     },
     "execution_count": 8,
     "metadata": {},
     "output_type": "execute_result"
    }
   ],
   "source": [
    "# Filter the rows where \"Instrument Status\" is \"Active\"\n",
    "filtered_data = data[data[\"Instrument Status\"] == \"Active\"]\n",
    "\n",
    "# Select and rename the columns\n",
    "selected_data = filtered_data[[\"Instrument\", \"ISIN\", \"Mnemonic\"]]\n",
    "selected_data.columns = [\"instrument_name\", \"instrument_isin\", \"instrument_ticker\"]"
   ]
  },
  {
   "cell_type": "code",
   "execution_count": 23,
   "metadata": {},
   "outputs": [],
   "source": [
    "def initialize_database():\n",
    "    conn = sqlite3.connect('de_company_info.db')\n",
    "    c = conn.cursor()\n",
    "    c.execute('''\n",
    "              CREATE TABLE IF NOT EXISTS companies\n",
    "              (id INTEGER PRIMARY KEY,\n",
    "              company_sec_cik TEXT,\n",
    "              company_name TEXT,\n",
    "              company_ticker TEXT,\n",
    "              company_exchange TEXT,\n",
    "              company_isin TEXT,\n",
    "              country TEXT,\n",
    "              industry TEXT,\n",
    "              sector TEXT,\n",
    "              longBusinessSummary TEXT,\n",
    "              retrieval_string TEXT)\n",
    "              ''')\n",
    "    conn.commit()\n",
    "    conn.close()\n",
    "\n",
    "initialize_database()"
   ]
  },
  {
   "cell_type": "code",
   "execution_count": 17,
   "metadata": {},
   "outputs": [],
   "source": [
    "def retrieve_info(ticker):\n",
    "    try:\n",
    "        company_info = yf.Ticker(ticker).info\n",
    "        if 'country' in company_info or 'industry' in company_info or 'city' in company_info or 'symbol' in company_info:\n",
    "            return company_info\n",
    "    except Exception as e:\n",
    "        pass\n",
    "    return None\n",
    "\n",
    "def get_company_info(company_ticker, company_isin, company_name):\n",
    "    identifiers = [company_isin, (company_ticker + \".DE\").replace(\"..\", \".\"), company_ticker]\n",
    "    company_info = None\n",
    "    retrieval_string = None\n",
    "    \n",
    "    for identifier in identifiers:\n",
    "        company_info = retrieve_info(identifier)\n",
    "        if company_info:\n",
    "            retrieval_string = identifier\n",
    "            break\n",
    "        time.sleep(0.25)\n",
    "    \n",
    "    company_exchange = company_info.get(\"exchange\", \"N/A\")\n",
    "    company_sec_cik = \"N/A\"\n",
    "    company_ticker = company_info.get(\"symbol\")\n",
    "\n",
    "    if company_info:\n",
    "        return {\n",
    "            'company_sec_cik': company_sec_cik,\n",
    "            'company_name': company_name,\n",
    "            'company_ticker': company_ticker,\n",
    "            'company_exchange': company_exchange,\n",
    "            'company_isin': company_isin,\n",
    "            'country': company_info.get('country', 'N/A'),\n",
    "            'industry': company_info.get('industry', 'N/A'),\n",
    "            'sector': company_info.get('sector', 'N/A'),\n",
    "            'longBusinessSummary': company_info.get('longBusinessSummary', 'N/A'),\n",
    "            'retrieval_string': retrieval_string,\n",
    "        }\n",
    "    else:\n",
    "        print(identifiers, \"returned none\")\n",
    "        return None"
   ]
  },
  {
   "cell_type": "code",
   "execution_count": 21,
   "metadata": {},
   "outputs": [],
   "source": [
    "def insert_company_info(company):\n",
    "    conn = sqlite3.connect('de_company_info.db')\n",
    "    c = conn.cursor()\n",
    "    c.execute('''\n",
    "              INSERT INTO companies (company_sec_cik, company_name, company_ticker, company_exchange, company_isin, country, industry, sector, longBusinessSummary, retrieval_string)\n",
    "              VALUES (?, ?, ?, ?, ?, ?, ?, ?, ?, ?)\n",
    "              ''', (company['company_sec_cik'], company['company_name'], company['company_ticker'], company['company_exchange'],\n",
    "                    company['company_isin'], company['country'], company['industry'], company['sector'], company['longBusinessSummary'], company['retrieval_string']))\n",
    "    conn.commit()\n",
    "    conn.close()"
   ]
  },
  {
   "cell_type": "code",
   "execution_count": 24,
   "metadata": {},
   "outputs": [
    {
     "name": "stderr",
     "output_type": "stream",
     "text": [
      "Processing companies:   2%|▏         | 87/3564 [03:12<7:26:55,  7.71s/it]"
     ]
    },
    {
     "name": "stdout",
     "output_type": "stream",
     "text": [
      "\n"
     ]
    },
    {
     "name": "stderr",
     "output_type": "stream",
     "text": [
      "Processing companies:   2%|▏         | 89/3564 [03:28<7:22:12,  7.64s/it]"
     ]
    },
    {
     "name": "stdout",
     "output_type": "stream",
     "text": [
      "\n"
     ]
    },
    {
     "name": "stderr",
     "output_type": "stream",
     "text": [
      "Processing companies:  17%|█▋        | 603/3564 [13:45<1:18:02,  1.58s/it]"
     ]
    },
    {
     "name": "stdout",
     "output_type": "stream",
     "text": [
      "\n"
     ]
    },
    {
     "name": "stderr",
     "output_type": "stream",
     "text": [
      "Processing companies:  21%|██        | 739/3564 [17:22<1:07:50,  1.44s/it]"
     ]
    },
    {
     "name": "stdout",
     "output_type": "stream",
     "text": [
      "\n"
     ]
    },
    {
     "name": "stderr",
     "output_type": "stream",
     "text": [
      "Processing companies:  21%|██        | 740/3564 [17:22<51:00,  1.08s/it]  "
     ]
    },
    {
     "name": "stdout",
     "output_type": "stream",
     "text": [
      "\n"
     ]
    },
    {
     "name": "stderr",
     "output_type": "stream",
     "text": [
      "Processing companies:  21%|██        | 741/3564 [17:23<39:15,  1.20it/s]"
     ]
    },
    {
     "name": "stdout",
     "output_type": "stream",
     "text": [
      "\n"
     ]
    },
    {
     "name": "stderr",
     "output_type": "stream",
     "text": [
      "Processing companies:  21%|██        | 742/3564 [17:23<31:01,  1.52it/s]"
     ]
    },
    {
     "name": "stdout",
     "output_type": "stream",
     "text": [
      "\n"
     ]
    },
    {
     "name": "stderr",
     "output_type": "stream",
     "text": [
      "Processing companies:  21%|██        | 743/3564 [17:23<25:15,  1.86it/s]"
     ]
    },
    {
     "name": "stdout",
     "output_type": "stream",
     "text": [
      "\n"
     ]
    },
    {
     "name": "stderr",
     "output_type": "stream",
     "text": [
      "Processing companies:  21%|██        | 744/3564 [17:23<21:13,  2.21it/s]"
     ]
    },
    {
     "name": "stdout",
     "output_type": "stream",
     "text": [
      "\n"
     ]
    },
    {
     "name": "stderr",
     "output_type": "stream",
     "text": [
      "Processing companies:  27%|██▋       | 967/3564 [27:39<1:51:07,  2.57s/it]"
     ]
    },
    {
     "name": "stdout",
     "output_type": "stream",
     "text": [
      "\n"
     ]
    },
    {
     "name": "stderr",
     "output_type": "stream",
     "text": [
      "Processing companies:  27%|██▋       | 976/3564 [28:07<1:48:20,  2.51s/it]"
     ]
    },
    {
     "name": "stdout",
     "output_type": "stream",
     "text": [
      "\n"
     ]
    },
    {
     "name": "stderr",
     "output_type": "stream",
     "text": [
      "Processing companies: 100%|██████████| 3564/3564 [2:17:27<00:00,  2.31s/it]  \n"
     ]
    }
   ],
   "source": [
    "import logging\n",
    "logger = logging.getLogger('yfinance')\n",
    "logger.disabled = True\n",
    "logger.propagate = False\n",
    "\n",
    "for index, row in tqdm(selected_data.iterrows(), total=selected_data.shape[0], desc=\"Processing companies\"):\n",
    "    \n",
    "    company_name = row[\"instrument_name\"]\n",
    "    company_isin = row[\"instrument_isin\"]\n",
    "    company_ticker = row[\"instrument_ticker\"]\n",
    "\n",
    "    try:\n",
    "        company_info = get_company_info(company_ticker, company_isin, company_name)\n",
    "        company_info[\"company_isin\"] = company_isin\n",
    "        if company_info is not None:\n",
    "            insert_company_info(company_info)\n",
    "        else:\n",
    "            print(f\"Failed to retrieve info for {company_name} ({company_ticker}, {company_isin})\")\n",
    "    except Exception as e:\n",
    "        print()\n",
    "    time.sleep(0.25)\n"
   ]
  },
  {
   "cell_type": "code",
   "execution_count": null,
   "metadata": {},
   "outputs": [],
   "source": []
  }
 ],
 "metadata": {
  "kernelspec": {
   "display_name": "Python 3",
   "language": "python",
   "name": "python3"
  },
  "language_info": {
   "codemirror_mode": {
    "name": "ipython",
    "version": 3
   },
   "file_extension": ".py",
   "mimetype": "text/x-python",
   "name": "python",
   "nbconvert_exporter": "python",
   "pygments_lexer": "ipython3",
   "version": "3.11.5"
  }
 },
 "nbformat": 4,
 "nbformat_minor": 2
}
