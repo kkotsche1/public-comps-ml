{
 "cells": [
  {
   "cell_type": "code",
   "execution_count": 1,
   "metadata": {},
   "outputs": [],
   "source": [
    "import sqlite3\n",
    "import pandas as pd\n",
    "import json"
   ]
  },
  {
   "cell_type": "code",
   "execution_count": 4,
   "metadata": {},
   "outputs": [
    {
     "name": "stdout",
     "output_type": "stream",
     "text": [
      "JSON file created and compressed successfully.\n"
     ]
    }
   ],
   "source": [
    "import sqlite3\n",
    "import pandas as pd\n",
    "import json\n",
    "import gzip\n",
    "\n",
    "# Connect to the SQLite database and load the data into a dataframe\n",
    "conn = sqlite3.connect(\"merged_company_info.db\")\n",
    "df = pd.read_sql_query(\"SELECT company_name, company_ticker, company_exchange FROM companies WHERE longBusinessSummary IS NOT NULL\", conn)\n",
    "conn.close()\n",
    "\n",
    "# Rename columns to match the desired JSON format\n",
    "df.rename(columns={\n",
    "    \"company_name\": \"name\",\n",
    "    \"company_ticker\": \"ticker\",\n",
    "    \"company_exchange\": \"exchange\"\n",
    "}, inplace=True)\n",
    "\n",
    "# Convert dataframe to a list of dictionaries\n",
    "data_list = df[['name', 'ticker', 'exchange']].to_dict(orient='records')\n",
    "\n",
    "# Convert the list of dictionaries to JSON\n",
    "json_data = json.dumps(data_list, indent=2)\n",
    "\n",
    "# Write JSON data to a regular file\n",
    "with open('companies.json', 'w', encoding='utf-8') as f:\n",
    "    f.write(json_data)\n",
    "\n",
    "# Write JSON data to a compressed file using gzip\n",
    "with gzip.open('companies.json.gz', 'wt', encoding='utf-8') as f:\n",
    "    f.write(json_data)\n",
    "\n",
    "print(\"JSON file created and compressed successfully.\")\n"
   ]
  },
  {
   "cell_type": "code",
   "execution_count": null,
   "metadata": {},
   "outputs": [],
   "source": []
  }
 ],
 "metadata": {
  "kernelspec": {
   "display_name": "Python 3",
   "language": "python",
   "name": "python3"
  },
  "language_info": {
   "codemirror_mode": {
    "name": "ipython",
    "version": 3
   },
   "file_extension": ".py",
   "mimetype": "text/x-python",
   "name": "python",
   "nbconvert_exporter": "python",
   "pygments_lexer": "ipython3",
   "version": "3.11.5"
  }
 },
 "nbformat": 4,
 "nbformat_minor": 2
}
