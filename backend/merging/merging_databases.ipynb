{
 "cells": [
  {
   "cell_type": "code",
   "execution_count": 1,
   "metadata": {},
   "outputs": [],
   "source": [
    "import sqlite3\n",
    "import pandas as pd"
   ]
  },
  {
   "cell_type": "code",
   "execution_count": 10,
   "metadata": {},
   "outputs": [
    {
     "name": "stdout",
     "output_type": "stream",
     "text": [
      "11837\n"
     ]
    }
   ],
   "source": [
    "# Define the path to the primary database\n",
    "primary_db_path = r'C:\\Users\\Admin\\PycharmProjects\\public-comps\\backend\\scraping\\USA\\us_company_info.db'\n",
    "\n",
    "# Connect to the primary database and load the data\n",
    "conn = sqlite3.connect(primary_db_path)\n",
    "primary_df = pd.read_sql_query(\"SELECT * FROM companies WHERE longBusinessSummary IS NOT NULL\", conn)\n",
    "conn.close()\n",
    "\n",
    "print(len(primary_df))"
   ]
  },
  {
   "cell_type": "code",
   "execution_count": 11,
   "metadata": {},
   "outputs": [
    {
     "name": "stdout",
     "output_type": "stream",
     "text": [
      "3553\n",
      "1803\n"
     ]
    }
   ],
   "source": [
    "conn = sqlite3.connect(r'C:\\Users\\Admin\\PycharmProjects\\public-comps\\backend\\scraping\\DE\\de_company_info.db')\n",
    "deutsche_boerse_df = pd.read_sql_query(\"SELECT * FROM companies WHERE longBusinessSummary IS NOT NULL\", conn)\n",
    "print(len(deutsche_boerse_df))\n",
    "conn.close()\n",
    "\n",
    "conn = sqlite3.connect(r'C:\\Users\\Admin\\PycharmProjects\\public-comps\\backend\\scraping\\UK\\uk_company_info.db')\n",
    "lse_df = pd.read_sql_query(\"SELECT * FROM companies WHERE longBusinessSummary IS NOT NULL\", conn)\n",
    "print(len(lse_df))\n",
    "conn.close()\n"
   ]
  },
  {
   "cell_type": "code",
   "execution_count": 5,
   "metadata": {},
   "outputs": [],
   "source": [
    "# def create_merged_database(db_path):\n",
    "#     conn = sqlite3.connect(db_path)\n",
    "#     c = conn.cursor()\n",
    "#     c.execute('''\n",
    "#         CREATE TABLE IF NOT EXISTS companies (\n",
    "#             id INTEGER PRIMARY KEY AUTOINCREMENT,\n",
    "#             company_sec_cik TEXT,\n",
    "#             company_name TEXT,\n",
    "#             company_isin TEXT,\n",
    "#             company_ticker TEXT,\n",
    "#             company_exchange TEXT,\n",
    "#             country TEXT,\n",
    "#             industry TEXT,\n",
    "#             sector TEXT,\n",
    "#             longBusinessSummary TEXT,\n",
    "#             embedding BLOB,\n",
    "#             UNIQUE(company_name, company_ticker, company_isin)\n",
    "#         )\n",
    "#     ''')\n",
    "#     conn.commit()\n",
    "#     conn.close()\n",
    "\n",
    "# create_merged_database('merged_company_info.db')"
   ]
  },
  {
   "cell_type": "code",
   "execution_count": 6,
   "metadata": {},
   "outputs": [],
   "source": [
    "def insert_data(df, conn):\n",
    "    c = conn.cursor()\n",
    "    for _, row in df.iterrows():\n",
    "        c.execute('''\n",
    "            INSERT OR IGNORE INTO companies (\n",
    "                company_sec_cik, company_name, company_isin, company_ticker, company_exchange,\n",
    "                country, industry, sector, longBusinessSummary, embedding\n",
    "            ) VALUES (?, ?, ?, ?, ?, ?, ?, ?, ?, ?)\n",
    "        ''', (\n",
    "            row['company_sec_cik'], row['company_name'], row['company_isin'], row['company_ticker'], \n",
    "            row['company_exchange'], row['country'], row['industry'], row['sector'], \n",
    "            row['longBusinessSummary'], row.get('embedding')\n",
    "        ))\n",
    "    conn.commit()"
   ]
  },
  {
   "cell_type": "code",
   "execution_count": 7,
   "metadata": {},
   "outputs": [],
   "source": [
    "def load_data(db_path):\n",
    "    conn = sqlite3.connect(db_path)\n",
    "    df = pd.read_sql_query(\"SELECT * FROM companies WHERE longBusinessSummary IS NOT NULL\", conn)\n",
    "    conn.close()\n",
    "    return df"
   ]
  },
  {
   "cell_type": "code",
   "execution_count": 12,
   "metadata": {},
   "outputs": [],
   "source": [
    "# Insert data into merged database\n",
    "conn = sqlite3.connect(\"merged_company_info.db\")\n",
    "insert_data(primary_df, conn)\n",
    "insert_data(deutsche_boerse_df, conn)\n",
    "insert_data(lse_df, conn)\n",
    "conn.close()"
   ]
  },
  {
   "cell_type": "code",
   "execution_count": 13,
   "metadata": {},
   "outputs": [
    {
     "name": "stdout",
     "output_type": "stream",
     "text": [
      "17191\n"
     ]
    }
   ],
   "source": [
    "conn = sqlite3.connect(\"merged_company_info.db\")\n",
    "df = pd.read_sql_query(\"SELECT * FROM companies WHERE longBusinessSummary IS NOT NULL\", conn)\n",
    "print(len(df))\n",
    "conn.close()"
   ]
  },
  {
   "cell_type": "code",
   "execution_count": 1,
   "metadata": {},
   "outputs": [
    {
     "name": "stdout",
     "output_type": "stream",
     "text": [
      "Deleted entries where longBusinessSummary is NULL or 'N/A'\n"
     ]
    }
   ],
   "source": [
    "import sqlite3\n",
    "\n",
    "def delete_companies_with_na_or_null_longBusinessSummary():\n",
    "    conn = sqlite3.connect('merged_company_info.db')\n",
    "    c = conn.cursor()\n",
    "    \n",
    "    # Delete rows where longBusinessSummary is 'N/A'\n",
    "    c.execute('''\n",
    "              DELETE FROM companies\n",
    "              WHERE longBusinessSummary = 'N/A'\n",
    "              ''')\n",
    "    \n",
    "    # Delete rows where longBusinessSummary is NULL\n",
    "    c.execute('''\n",
    "              DELETE FROM companies\n",
    "              WHERE longBusinessSummary IS NULL\n",
    "              ''')\n",
    "    \n",
    "    conn.commit()\n",
    "    conn.close()\n",
    "    print(\"Deleted entries where longBusinessSummary is NULL or 'N/A'\")\n",
    "\n",
    "delete_companies_with_na_or_null_longBusinessSummary()"
   ]
  },
  {
   "cell_type": "code",
   "execution_count": null,
   "metadata": {},
   "outputs": [],
   "source": []
  }
 ],
 "metadata": {
  "kernelspec": {
   "display_name": "Python 3",
   "language": "python",
   "name": "python3"
  },
  "language_info": {
   "codemirror_mode": {
    "name": "ipython",
    "version": 3
   },
   "file_extension": ".py",
   "mimetype": "text/x-python",
   "name": "python",
   "nbconvert_exporter": "python",
   "pygments_lexer": "ipython3",
   "version": "3.11.5"
  }
 },
 "nbformat": 4,
 "nbformat_minor": 2
}
