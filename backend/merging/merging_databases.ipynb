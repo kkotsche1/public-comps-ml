{
 "cells": [
  {
   "cell_type": "code",
   "execution_count": 1,
   "metadata": {},
   "outputs": [],
   "source": [
    "import sqlite3\n",
    "import pandas as pd"
   ]
  },
  {
   "cell_type": "code",
   "execution_count": 10,
   "metadata": {},
   "outputs": [
    {
     "name": "stdout",
     "output_type": "stream",
     "text": [
      "11837\n"
     ]
    }
   ],
   "source": [
    "# Define the path to the primary database\n",
    "primary_db_path = r'C:\\Users\\Admin\\PycharmProjects\\public-comps\\backend\\scraping\\USA\\us_company_info.db'\n",
    "\n",
    "# Connect to the primary database and load the data\n",
    "conn = sqlite3.connect(primary_db_path)\n",
    "primary_df = pd.read_sql_query(\"SELECT * FROM companies WHERE longBusinessSummary IS NOT NULL\", conn)\n",
    "conn.close()\n",
    "\n",
    "print(len(primary_df))"
   ]
  },
  {
   "cell_type": "code",
   "execution_count": 11,
   "metadata": {},
   "outputs": [
    {
     "name": "stdout",
     "output_type": "stream",
     "text": [
      "3553\n",
      "1803\n"
     ]
    }
   ],
   "source": [
    "conn = sqlite3.connect(r'C:\\Users\\Admin\\PycharmProjects\\public-comps\\backend\\scraping\\DE\\de_company_info.db')\n",
    "deutsche_boerse_df = pd.read_sql_query(\"SELECT * FROM companies WHERE longBusinessSummary IS NOT NULL\", conn)\n",
    "print(len(deutsche_boerse_df))\n",
    "conn.close()\n",
    "\n",
    "conn = sqlite3.connect(r'C:\\Users\\Admin\\PycharmProjects\\public-comps\\backend\\scraping\\UK\\uk_company_info.db')\n",
    "lse_df = pd.read_sql_query(\"SELECT * FROM companies WHERE longBusinessSummary IS NOT NULL\", conn)\n",
    "print(len(lse_df))\n",
    "conn.close()\n"
   ]
  },
  {
   "cell_type": "code",
   "execution_count": 2,
   "metadata": {},
   "outputs": [],
   "source": [
    "def create_merged_database(db_path):\n",
    "    conn = sqlite3.connect(db_path)\n",
    "    c = conn.cursor()\n",
    "    c.execute('''\n",
    "        CREATE TABLE IF NOT EXISTS companies (\n",
    "            id INTEGER PRIMARY KEY AUTOINCREMENT,\n",
    "            company_sec_cik TEXT,\n",
    "            company_name TEXT,\n",
    "            company_isin TEXT,\n",
    "            company_ticker TEXT,\n",
    "            company_exchange TEXT,\n",
    "            country TEXT,\n",
    "            industry TEXT,\n",
    "            sector TEXT,\n",
    "            longBusinessSummary TEXT,\n",
    "            embedding BLOB,\n",
    "            UNIQUE(company_name, company_ticker, company_isin)\n",
    "        )\n",
    "    ''')\n",
    "    conn.commit()\n",
    "    conn.close()\n",
    "\n",
    "#create_merged_database('merged_company_info.db')"
   ]
  },
  {
   "cell_type": "code",
   "execution_count": 3,
   "metadata": {},
   "outputs": [],
   "source": [
    "def insert_data(df, conn):\n",
    "    c = conn.cursor()\n",
    "    for _, row in df.iterrows():\n",
    "        c.execute('''\n",
    "            INSERT OR IGNORE INTO companies (\n",
    "                company_sec_cik, company_name, company_isin, company_ticker, company_exchange,\n",
    "                country, industry, sector, longBusinessSummary, embedding\n",
    "            ) VALUES (?, ?, ?, ?, ?, ?, ?, ?, ?, ?)\n",
    "        ''', (\n",
    "            row['company_sec_cik'], row['company_name'], row['company_isin'], row['company_ticker'], \n",
    "            row['company_exchange'], row['country'], row['industry'], row['sector'], \n",
    "            row['longBusinessSummary'], row.get('embedding')\n",
    "        ))\n",
    "    conn.commit()"
   ]
  },
  {
   "cell_type": "code",
   "execution_count": 10,
   "metadata": {},
   "outputs": [],
   "source": [
    "def load_data(db_path):\n",
    "    conn = sqlite3.connect(db_path)\n",
    "    df = pd.read_sql_query(\"SELECT * FROM companies WHERE longBusinessSummary IS NOT NULL\", conn)\n",
    "    conn.close()\n",
    "    return df"
   ]
  },
  {
   "cell_type": "code",
   "execution_count": 12,
   "metadata": {},
   "outputs": [],
   "source": [
    "# Insert data into merged database\n",
    "conn = sqlite3.connect(\"merged_company_info.db\")\n",
    "insert_data(primary_df, conn)\n",
    "insert_data(deutsche_boerse_df, conn)\n",
    "insert_data(lse_df, conn)\n",
    "conn.close()"
   ]
  },
  {
   "cell_type": "code",
   "execution_count": 13,
   "metadata": {},
   "outputs": [
    {
     "name": "stdout",
     "output_type": "stream",
     "text": [
      "17191\n"
     ]
    }
   ],
   "source": [
    "conn = sqlite3.connect(\"merged_company_info.db\")\n",
    "df = pd.read_sql_query(\"SELECT * FROM companies WHERE longBusinessSummary IS NOT NULL\", conn)\n",
    "print(len(df))\n",
    "conn.close()"
   ]
  },
  {
   "cell_type": "code",
   "execution_count": 5,
   "metadata": {},
   "outputs": [
    {
     "name": "stdout",
     "output_type": "stream",
     "text": [
      "Total records before filtering: 12391\n",
      "Total records after filtering invalid names: 8264\n",
      "Total records after deduplication: 6198\n"
     ]
    }
   ],
   "source": [
    "# Create empty merged database\n",
    "import sqlite3\n",
    "import pandas as pd\n",
    "\n",
    "def remove_duplicates(df):\n",
    "    # Create a helper column to prioritize non-OTC exchanges\n",
    "    df['is_otc'] = df['company_exchange'].apply(lambda x: 1 if x == 'OTC' else 0)\n",
    "    \n",
    "    # Sort by company_name, and the helper column\n",
    "    df = df.sort_values(by=['company_name', 'is_otc'])\n",
    "    \n",
    "    # Drop duplicates, keeping the first occurrence (non-OTC will be first due to sorting)\n",
    "    df = df.drop_duplicates(subset=['company_name'], keep='first')\n",
    "    \n",
    "    # Drop the helper column\n",
    "    df = df.drop(columns=['is_otc'])\n",
    "    \n",
    "    return df\n",
    "\n",
    "def insert_data(df, conn):\n",
    "    c = conn.cursor()\n",
    "    for _, row in df.iterrows():\n",
    "        c.execute('''\n",
    "            INSERT OR IGNORE INTO companies (\n",
    "                company_sec_cik, company_name, company_isin, company_ticker, company_exchange,\n",
    "                country, industry, sector, longBusinessSummary, embedding\n",
    "            ) VALUES (?, ?, ?, ?, ?, ?, ?, ?, ?, ?)\n",
    "        ''', (\n",
    "            row['company_sec_cik'], row['company_name'], row['company_isin'], row['company_ticker'], \n",
    "            row['company_exchange'], row['country'], row['industry'], row['sector'], \n",
    "            row['longBusinessSummary'], row.get('embedding')\n",
    "        ))\n",
    "    conn.commit()\n",
    "\n",
    "def load_data(db_path):\n",
    "    conn = sqlite3.connect(db_path)\n",
    "    df = pd.read_sql_query(\"SELECT * FROM companies WHERE longBusinessSummary IS NOT NULL\", conn)\n",
    "    conn.close()\n",
    "    return df\n",
    "\n",
    "def filter_invalid_names(df):\n",
    "    # Remove entries where company_name contains more than 2 adjacent spaces, or any of \",\", \"-\", \"/\"\n",
    "    df = df[~df['company_name'].str.contains(r'\\s{3,}')]\n",
    "    df = df[~df['company_name'].str.contains(r'[,\\-\\/]')]\n",
    "    return df\n",
    "\n",
    "# Load data from various sources with the specified conditions\n",
    "conditions = \"\"\"\n",
    "    longBusinessSummary != 'N/A' AND\n",
    "    country != 'N/A' AND\n",
    "    industry != 'N/A' AND\n",
    "    sector != 'N/A'\n",
    "\"\"\"\n",
    "\n",
    "primary_df = pd.read_sql_query(f\"SELECT * FROM companies WHERE longBusinessSummary IS NOT NULL AND {conditions}\", sqlite3.connect(r'C:\\Users\\Admin\\PycharmProjects\\public-comps\\backend\\scraping\\USA\\us_company_info.db'))\n",
    "deutsche_boerse_df = pd.read_sql_query(f\"SELECT * FROM companies WHERE longBusinessSummary IS NOT NULL AND {conditions}\", sqlite3.connect(r'C:\\Users\\Admin\\PycharmProjects\\public-comps\\backend\\scraping\\DE\\de_company_info.db'))\n",
    "lse_df = pd.read_sql_query(f\"SELECT * FROM companies WHERE longBusinessSummary IS NOT NULL AND {conditions}\", sqlite3.connect(r'C:\\Users\\Admin\\PycharmProjects\\public-comps\\backend\\scraping\\UK\\uk_company_info.db'))\n",
    "\n",
    "# Combine all dataframes\n",
    "combined_df = pd.concat([primary_df, deutsche_boerse_df, lse_df])\n",
    "\n",
    "print(f\"Total records before filtering: {len(combined_df)}\")\n",
    "\n",
    "# Filter out invalid company names\n",
    "combined_df = filter_invalid_names(combined_df)\n",
    "\n",
    "print(f\"Total records after filtering invalid names: {len(combined_df)}\")\n",
    "\n",
    "# Remove duplicates within the combined dataframe, prioritizing non-OTC exchanges\n",
    "combined_df = remove_duplicates(combined_df)\n",
    "\n",
    "print(f\"Total records after deduplication: {len(combined_df)}\")\n",
    "\n",
    "# Creating empty merged database \n",
    "create_merged_database(\"merged_company_deduplicated.db\")\n",
    "\n",
    "# Insert data into merged database\n",
    "conn = sqlite3.connect(\"merged_company_deduplicated.db\")\n",
    "insert_data(combined_df, conn)\n",
    "conn.close()"
   ]
  },
  {
   "cell_type": "code",
   "execution_count": null,
   "metadata": {},
   "outputs": [],
   "source": []
  }
 ],
 "metadata": {
  "kernelspec": {
   "display_name": "Python 3",
   "language": "python",
   "name": "python3"
  },
  "language_info": {
   "codemirror_mode": {
    "name": "ipython",
    "version": 3
   },
   "file_extension": ".py",
   "mimetype": "text/x-python",
   "name": "python",
   "nbconvert_exporter": "python",
   "pygments_lexer": "ipython3",
   "version": "3.11.5"
  }
 },
 "nbformat": 4,
 "nbformat_minor": 2
}
